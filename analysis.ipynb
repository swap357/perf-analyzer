{
 "cells": [
  {
   "cell_type": "markdown",
   "metadata": {},
   "source": [
    "# Set up flamegraph repo"
   ]
  },
  {
   "cell_type": "code",
   "execution_count": null,
   "metadata": {},
   "outputs": [],
   "source": [
    "# Clone the FlameGraph repository from GitHub\n",
    "!git clone https://github.com/brendangregg/FlameGraph.git\n",
    "\n",
    "# Add the FlameGraph directory to the system's path\n",
    "import os\n",
    "flamegraph_dir = os.path.abspath('FlameGraph')\n",
    "os.environ['PATH'] = f\"{flamegraph_dir}:{os.environ['PATH']}\"\n",
    "\n",
    "# Verify that the FlameGraph scripts are available in the path\n",
    "!which stackcollapse-perf.pl\n",
    "!which flamegraph.pl\n",
    "\n",
    "# Output a message indicating successful setup\n",
    "print(\"FlameGraph setup complete!\")\n"
   ]
  },
  {
   "attachments": {},
   "cell_type": "markdown",
   "metadata": {},
   "source": [
    "# CPU Analysis"
   ]
  },
  {
   "cell_type": "code",
   "execution_count": null,
   "metadata": {},
   "outputs": [],
   "source": [
    "# Record CPU samples for a specified duration (e.g., 10 seconds)\n",
    "!perf record -a -g -- sleep 10\n",
    "\n",
    "# Generate a summary report of the CPU usage\n",
    "!perf report --stdio\n",
    "\n",
    "# Generate a flame graph to visualize the call stack and identify hot functions\n",
    "!perf script | FlameGraph/stackcollapse-perf.pl | FlameGraph/flamegraph.pl > cpu_flamegraph.svg\n",
    "\n",
    "# Display the flame graph in the notebook\n",
    "from IPython.display import SVG\n",
    "SVG(filename='cpu_flamegraph.svg')\n"
   ]
  },
  {
   "attachments": {},
   "cell_type": "markdown",
   "metadata": {},
   "source": [
    "# Off-CPU Analysis"
   ]
  },
  {
   "cell_type": "code",
   "execution_count": null,
   "metadata": {},
   "outputs": [],
   "source": [
    "# Record off-CPU time samples for a specified duration (e.g., 10 seconds)\n",
    "!perf record -e sched:sched_stat_sleep -a -g -- sleep 10\n",
    "\n",
    "# Generate a flame graph to visualize off-CPU time call stacks\n",
    "!perf script | stackcollapse-perf.pl | flamegraph.pl > offcpu_flamegraph.svg\n",
    "\n",
    "# Display the flame graph in the notebook\n",
    "SVG(filename='offcpu_flamegraph.svg')"
   ]
  },
  {
   "attachments": {},
   "cell_type": "markdown",
   "metadata": {},
   "source": [
    "# Memory Analysis"
   ]
  },
  {
   "cell_type": "code",
   "execution_count": null,
   "metadata": {},
   "outputs": [],
   "source": [
    "# Record memory access samples for a specified duration (e.g., 10 seconds)\n",
    "!perf record -e mem_inst_retired.all_loads -a -g -- sleep 10\n",
    "\n",
    "# Generate a summary report of memory usage\n",
    "!perf report --stdio\n",
    "\n",
    "# Generate a flame graph to visualize memory access patterns\n",
    "!perf script | FlameGraph/stackcollapse-perf.pl | FlameGraph/flamegraph.pl > memory_flamegraph.svg\n",
    "\n",
    "# Display the flame graph in the notebook\n",
    "SVG(filename='memory_flamegraph.svg')\n"
   ]
  },
  {
   "attachments": {},
   "cell_type": "markdown",
   "metadata": {},
   "source": [
    "# Memory Allocation Analysis"
   ]
  },
  {
   "cell_type": "code",
   "execution_count": null,
   "metadata": {},
   "outputs": [],
   "source": [
    "# Record memory allocation samples for a specified duration (e.g., 10 seconds)\n",
    "!perf record -e malloc -a -g -- sleep 10\n",
    "\n",
    "# Generate a flame graph to visualize memory allocation call stacks\n",
    "!perf script | stackcollapse-perf.pl | flamegraph.pl > memory_alloc_flamegraph.svg\n",
    "\n",
    "# Display the flame graph in the notebook\n",
    "SVG(filename='memory_alloc_flamegraph.svg')\n"
   ]
  },
  {
   "attachments": {},
   "cell_type": "markdown",
   "metadata": {},
   "source": [
    "# IO Analysis"
   ]
  },
  {
   "cell_type": "code",
   "execution_count": null,
   "metadata": {},
   "outputs": [],
   "source": [
    "# Record block I/O events for a specified duration (e.g., 10 seconds)\n",
    "!perf record -e block:block_rq_issue -a -g -- sleep 10\n",
    "\n",
    "# Generate a summary report of I/O operations\n",
    "!perf report --stdio\n",
    "\n",
    "# Generate a flame graph to visualize I/O operations\n",
    "!perf script | FlameGraph/stackcollapse-perf.pl | FlameGraph/flamegraph.pl > io_flamegraph.svg\n",
    "\n",
    "# Display the flame graph in the notebook\n",
    "SVG(filename='io_flamegraph.svg')\n"
   ]
  },
  {
   "attachments": {},
   "cell_type": "markdown",
   "metadata": {},
   "source": [
    "# Cache miss plot"
   ]
  },
  {
   "cell_type": "code",
   "execution_count": null,
   "metadata": {},
   "outputs": [],
   "source": [
    "# Run this cell to collect L1 data cache miss data\n",
    "!perf stat -e L1-dcache-load-misses -a -I 200 -- sleep 10 > cache_miss_data.txt\n",
    "# Load and parse cache miss data from the file\n",
    "def load_cache_miss_data(file_name):\n",
    "    data = np.loadtxt(file_name, skiprows=1, usecols=1)\n",
    "    return data\n",
    "\n",
    "# Create cache miss plot\n",
    "def create_cache_miss_plot(data):\n",
    "    time = np.arange(0, len(data) * 0.2, 0.2)  # Assuming 200ms intervals\n",
    "    plt.plot(time, data)\n",
    "    plt.xlabel('Time (seconds)')\n",
    "    plt.ylabel('Cache Misses')\n",
    "    plt.title('Cache Misses Over Time')\n",
    "    plt.grid(True)\n",
    "    plt.show()\n",
    "\n",
    "# Load data and create cache miss plot\n",
    "cache_miss_data = load_cache_miss_data('cache_miss_data.txt')\n",
    "create_cache_miss_plot(cache_miss_data)\n"
   ]
  },
  {
   "attachments": {},
   "cell_type": "markdown",
   "metadata": {},
   "source": [
    "# Heatmap"
   ]
  },
  {
   "cell_type": "code",
   "execution_count": null,
   "metadata": {},
   "outputs": [],
   "source": [
    "# Run this cell to collect CPU usage data for each CPU core\n",
    "!perf stat -e cycles:u -a -A -I 200 -- sleep 10 > cpu_usage_data.txt\n",
    "\n",
    "import matplotlib.pyplot as plt\n",
    "import numpy as np\n",
    "\n",
    "# Load and parse CPU usage data from the file\n",
    "def load_cpu_usage_data(file_name):\n",
    "    data = np.loadtxt(file_name, skiprows=1, usecols=range(1, 5))  # Adjust usecols based on the number of CPU cores\n",
    "    return data\n",
    "\n",
    "# Create heatmap for CPU usage\n",
    "def create_heatmap(data):\n",
    "    plt.imshow(data.T, cmap='hot', interpolation='nearest', aspect='auto')\n",
    "    plt.colorbar(label='CPU Usage')\n",
    "    plt.xlabel('Time')\n",
    "    plt.ylabel('CPU Core')\n",
    "    plt.title('CPU Usage Heatmap')\n",
    "    plt.show()\n",
    "\n",
    "# Load data and create heatmap\n",
    "cpu_usage_data = load_cpu_usage_data('cpu_usage_data.txt')\n",
    "create_heatmap(cpu_usage_data)\n"
   ]
  }
 ],
 "metadata": {
  "language_info": {
   "name": "python"
  },
  "orig_nbformat": 4
 },
 "nbformat": 4,
 "nbformat_minor": 2
}
